{
 "cells": [
  {
   "cell_type": "markdown",
   "metadata": {},
   "source": [
    "# C. Live Streaming Twitter Alerts"
   ]
  },
  {
   "cell_type": "markdown",
   "metadata": {},
   "source": [
    "The streaming API code heavily borrowed from "
   ]
  },
  {
   "cell_type": "code",
   "execution_count": null,
   "metadata": {},
   "outputs": [],
   "source": [
    "import numpy as np\n",
    "import pandas as pd\n",
    "\n",
    "import tweepy\n",
    "from tweepy import StreamListener, Stream\n",
    "import json \n",
    "from textblob import TextBlob\n",
    "from geopy import geocoders \n",
    "\n",
    "%matplotlib notebook\n",
    "\n",
    "from matplotlib import pyplot as plt\n",
    "from matplotlib.animation import FuncAnimation\n",
    "import matplotlib.animation as animation\n",
    "#import tmp102\n",
    "import datetime as dt\n",
    "from threading import Thread\n",
    "import time\n",
    "\n",
    "# input your Twitter API credentials\n",
    "consumer_key = \"CONSUMER KEY\"\n",
    "consumer_secret = \"CONSUMER SECRET\"\n",
    "access_token = \"ACCESS TOKEN\"\n",
    "access_secret = \"ACCESS SECRET\"\n",
    " \n",
    "auth = tweepy.OAuthHandler(consumer_key, consumer_secret)\n",
    "auth.set_access_token(access_token, access_secret)\n",
    "\n",
    "#alert types to pick for filter\n",
    "alert_fire = [' fire ', ' wildfire ', ' blaze ', ' campfire ', ' smoke ']\n",
    "alert_flood = [' flood ', ' flooding ', ' flooded ', ' surge ', ' torrent ']\n",
    "alert_storm = [' storm ', ' tornado ', ' wind ', ' snow ', ' hale ', ' rain ', ' deluge ', ' hurricane ', ' avalanche ', ' ice ']\n",
    "alert_shooting = [' shooting ', ' shooter ', ' shots fired ', ' bullet ', ' gunshot ', ' murder ', ' driveby ']\n",
    "alert_any = alert_fire + alert_flood + alert_storm + alert_shooting\n",
    "\n",
    "# additional filter for urgency - only works on top of other filters\n",
    "urgent = [' help ', ' HELP ', ' sos ', ' SOS ', ' police ', ' emt ', ' ems ', ' emergency ', \n",
    "          ' assistance ', ' assist ', ' 911 ', ' relief ', ' warning ', ' danger ', ' crisis ']\n",
    "\n",
    "# test set for alerts\n",
    "shutdown_test = [' shutdown ', ' government ', ' federal ', ' tsa ', 'Trump', ' democrats ',\n",
    "                'Pelosi', ' republicans ', 'Coulter']\n",
    "\n",
    "# calculating coordinates of a location\n",
    "def bounding_coord(city_state, radius=15):\n",
    "    gn = geocoders.GeoNames(username = 'katerdowdy') \n",
    "    for _ in range(3): # setting number of retries\n",
    "        try:\n",
    "            coords = gn.geocode(city_state, exactly_one=False)[0]\n",
    "            lat = coords.latitude\n",
    "            long = coords.longitude\n",
    "        except:\n",
    "            print(\"Location coordinates not found, try again!\")\n",
    "        \n",
    "    degree_change = (radius / 69)\n",
    "    sw_lat = lat - (degree_change / 2)\n",
    "    sw_long = long - (degree_change / 2)\n",
    "    ne_lat = lat + (degree_change / 2)\n",
    "    ne_long = long + (degree_change / 2)\n",
    "    \n",
    "    return sw_long, sw_lat, ne_long, ne_lat\n",
    "\n",
    "# converting unix to Eastern time\n",
    "def convert_eastern(unix):\n",
    "    zulu = pd.to_datetime(unix, unit = 'ms')\n",
    "    eastern = zulu - pd.Timedelta(hours=5)\n",
    "    round_time = pd.DatetimeIndex.round(eastern, freq = 's')\n",
    "    return round_time\n"
   ]
  }
 ],
 "metadata": {
  "kernelspec": {
   "display_name": "Python 3",
   "language": "python",
   "name": "python3"
  },
  "language_info": {
   "codemirror_mode": {
    "name": "ipython",
    "version": 3
   },
   "file_extension": ".py",
   "mimetype": "text/x-python",
   "name": "python",
   "nbconvert_exporter": "python",
   "pygments_lexer": "ipython3",
   "version": "3.6.5"
  }
 },
 "nbformat": 4,
 "nbformat_minor": 2
}
